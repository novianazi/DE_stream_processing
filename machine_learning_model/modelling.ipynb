{
 "cells": [
  {
   "cell_type": "code",
   "execution_count": null,
   "metadata": {},
   "outputs": [],
   "source": [
    "#!python3\n",
    "\n",
    "import pickle\n",
    "import pandas\n",
    "from sklearn.linear_model import LogisticRegression\n",
    "\n",
    "if __name__ == \"__main__\":\n",
    "    \n",
    "    df = pandas.read_csv('Fraud.csv')\n",
    "    \n",
    "    d_devices = pandas.get_dummies(df['device'])\n",
    "    d_devices.insert(0,'device',df['device'])\n",
    "    d_devices.drop_duplicates().to_json('dict_devices.json', orient='records')\n",
    "\n",
    "    d_newbalanceDest = pandas.get_dummies(df['newbalanceDest'])\n",
    "    d_newbalanceDest.insert(0,'newbalanceDest',df['newbalanceDest'])\n",
    "    d_newbalanceDest.drop_duplicates().to_json('dict_newbalanceDest.json', orient='records')\n",
    "\n",
    "    df = pandas.concat([df,pandas.get_dummies(df['device'])], axis=1).drop('device', axis=1)\n",
    "    df = pandas.concat([df,pandas.get_dummies(df['newbalanceDest'])], axis=1).drop('newbalanceDest', axis=1)\n",
    "\n",
    "    X = df.drop(['isFraud'], axis=1).values.tolist()\n",
    "    y = df[['isFraud']].values.tolist()\n",
    "    \n",
    "    model = LogisticRegression()\n",
    "    model.fit(X,y)\n",
    "    with open('modelFraud.pkl','wb') as file:\n",
    "        pickle.dump(model, file)"
   ]
  },
  {
   "cell_type": "code",
   "execution_count": null,
   "metadata": {},
   "outputs": [],
   "source": []
  }
 ],
 "metadata": {
  "kernelspec": {
   "display_name": "Python 3.10.6 64-bit",
   "language": "python",
   "name": "python3"
  },
  "language_info": {
   "codemirror_mode": {
    "name": "ipython",
    "version": 3
   },
   "file_extension": ".py",
   "mimetype": "text/x-python",
   "name": "python",
   "nbconvert_exporter": "python",
   "pygments_lexer": "ipython3",
   "version": "3.10.6"
  },
  "vscode": {
   "interpreter": {
    "hash": "882a3020cd6f7874e6b1d15339c264c657ac23bec0fa552cfef0ad88a2a59b4c"
   }
  }
 },
 "nbformat": 4,
 "nbformat_minor": 4
}
